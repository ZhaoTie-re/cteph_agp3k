{
 "cells": [
  {
   "cell_type": "code",
   "execution_count": 1,
   "metadata": {},
   "outputs": [],
   "source": [
    "import pandas as pd\n",
    "import numpy as np\n",
    "import matplotlib.pyplot as plt\n",
    "\n",
    "cteph_info = pd.read_excel('CTEPH_Patients_20250117.xlsx')\n",
    "cteph_info_wgs = cteph_info[cteph_info['WGS'].notna() & cteph_info['ID'].notna()]\n",
    "cteph_wgs_ids = cteph_info_wgs.sort_values(by='ID')['ID'].tolist()\n",
    "\n",
    "ph_agp3k_ids = pd.read_csv('PH_AGP3K.sample.lst', sep='\\t', header=None)[0].tolist()\n",
    "agp3k_wgs_ids = [id for id in ph_agp3k_ids if not id.startswith('PHOM')]\n",
    "\n",
    "cteph_agp3k_wgs_ids = cteph_wgs_ids + agp3k_wgs_ids\n",
    "\n",
    "# with open('cteph_agp3k_wgs_ids.txt', 'w') as f:\n",
    "#     f.write('\\n'.join(cteph_agp3k_wgs_ids))"
   ]
  },
  {
   "cell_type": "code",
   "execution_count": 3,
   "metadata": {},
   "outputs": [],
   "source": [
    "nagasaki_ids = pd.read_csv('nagasaki.sample.lst', sep='\\t', header=None)[0].tolist()"
   ]
  }
 ],
 "metadata": {
  "kernelspec": {
   "display_name": "cteph_geno_pro",
   "language": "python",
   "name": "python3"
  },
  "language_info": {
   "codemirror_mode": {
    "name": "ipython",
    "version": 3
   },
   "file_extension": ".py",
   "mimetype": "text/x-python",
   "name": "python",
   "nbconvert_exporter": "python",
   "pygments_lexer": "ipython3",
   "version": "3.12.3"
  }
 },
 "nbformat": 4,
 "nbformat_minor": 2
}
