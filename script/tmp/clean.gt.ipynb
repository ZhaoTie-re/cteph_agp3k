{
 "cells": [
  {
   "cell_type": "code",
   "execution_count": 16,
   "id": "4b0d84de",
   "metadata": {},
   "outputs": [],
   "source": [
    "import pandas as pd\n",
    "import numpy as np\n",
    "\n",
    "projection_keep = pd.read_csv('/LARGE0/gr10478/b37974/Pulmonary_Hypertension/cteph_agp3k/wgs/16.bbj_projection_sample_keep/CTEPH_AGP3K.bbj_projection.subset.keep.txt', \n",
    "                              header=0, sep='\\t', dtype=str)\n",
    "\n",
    "kinship_remove = pd.read_csv('/LARGE0/gr10478/b37974/Pulmonary_Hypertension/cteph_agp3k/wgs/17.kinship_sample_remove/kinship_check.to_remove.txt',\n",
    "                              header=None, dtype=str)\n",
    "\n",
    "projection_keep_filtered = projection_keep[~projection_keep['IID'].isin(kinship_remove[0])]\n",
    "projection_keep_filtered.to_csv('sample_keep.txt',sep='\\t', index=False, header=True)"
   ]
  },
  {
   "cell_type": "code",
   "execution_count": 17,
   "id": "8b6eabf4",
   "metadata": {},
   "outputs": [],
   "source": [
    "import subprocess\n",
    "\n",
    "def run_command(command):\n",
    "    \"\"\"Run a shell command (tuple/list or string) and return the output.\"\"\"\n",
    "    if isinstance(command, (tuple, list)):\n",
    "        result = subprocess.run(command, capture_output=True, text=True)\n",
    "    else:\n",
    "        result = subprocess.run(command, shell=True, capture_output=True, text=True)\n",
    "\n",
    "    if result.returncode != 0:\n",
    "        raise RuntimeError(f\"Command failed:\\n{command}\\n{result.stderr}\")\n",
    "    return result.stdout.strip()\n",
    "\n",
    "bed_prefix = \"/LARGE0/gr10478/b37974/Pulmonary_Hypertension/cteph_agp3k/wgs/14.hwe_qc/cteph_agp3k.s_qc.gt_qc.v_qc.hwe\"\n",
    "out_prefix = \"cteph_agp3k.s_qc.gt_qc.v_qc.hwe.sample_keep\"\n",
    "\n",
    "cmd_sample_keep = [\n",
    "    \"/home/b/b37974/plink2\",\n",
    "    \"--bfile\", bed_prefix,\n",
    "    \"--keep\", \"sample_keep.txt\",\n",
    "    \"--make-bed\",\n",
    "    \"--out\", out_prefix, \n",
    "    \"--threads\", \"8\"\n",
    "]\n",
    "\n",
    "# run_command(cmd_sample_keep)"
   ]
  },
  {
   "cell_type": "code",
   "execution_count": 18,
   "id": "ded379a5",
   "metadata": {},
   "outputs": [],
   "source": [
    "fam_df = pd.read_csv(f'{out_prefix}.fam', sep='\\t', header=None, dtype=str)\n",
    "sex_df = fam_df[[0, 1, 4]].copy()\n",
    "sex_df.columns = ['#FID', 'IID', 'SEX']\n",
    "\n",
    "pheno_df = fam_df[[0, 1, 5]].copy()\n",
    "pheno_df.columns = ['#FID', 'IID', 'PHENO1']\n",
    "pheno_df.to_csv('pheno.txt', sep='\\t', index=False, header=True)\n"
   ]
  },
  {
   "cell_type": "code",
   "execution_count": 20,
   "id": "7e942bd9",
   "metadata": {},
   "outputs": [],
   "source": [
    "sscore = pd.read_csv(\"/LARGE0/gr10478/b37974/Pulmonary_Hypertension/cteph_agp3k/bbj_projection/03.bbj_projection/cteph_agp3k.bbj.projection.sscore\", \n",
    "                     header=0, sep='\\t')\n",
    "\n",
    "sscore_filtered = sscore[sscore['IID'].isin(projection_keep_filtered['IID'])].drop(sscore.columns[[2, 3, 4]], axis=1)\n",
    "covariance_df = pd.merge(sex_df, sscore_filtered, on=['#FID', 'IID'], how='left')\n",
    "covariance_df.to_csv('covariance.txt', sep='\\t', index=False, header=True)\n"
   ]
  }
 ],
 "metadata": {
  "kernelspec": {
   "display_name": "cteph_geno_pro",
   "language": "python",
   "name": "python3"
  },
  "language_info": {
   "codemirror_mode": {
    "name": "ipython",
    "version": 3
   },
   "file_extension": ".py",
   "mimetype": "text/x-python",
   "name": "python",
   "nbconvert_exporter": "python",
   "pygments_lexer": "ipython3",
   "version": "3.12.3"
  }
 },
 "nbformat": 4,
 "nbformat_minor": 5
}
