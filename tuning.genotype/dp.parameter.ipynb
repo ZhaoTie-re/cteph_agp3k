{
 "cells": [
  {
   "cell_type": "code",
   "execution_count": 6,
   "metadata": {},
   "outputs": [
    {
     "name": "stdout",
     "output_type": "stream",
     "text": [
      "Number of samples: 2953\n"
     ]
    }
   ],
   "source": [
    "import pandas as pd\n",
    "import numpy as np\n",
    "import pysam\n",
    "\n",
    "chrom = \"chr21\"\n",
    "vcf_path=\"/LARGE0/gr10478/b37974/Pulmonary_Hypertension/cteph_regenie/vcf_qc_check/subset.vcf.gz\"\n",
    "vcf_file = pysam.VariantFile(vcf_path)\n",
    "samples = list(vcf_file.header.samples)\n",
    "print(f\"Number of samples: {len(samples)}\")"
   ]
  },
  {
   "cell_type": "code",
   "execution_count": 7,
   "metadata": {},
   "outputs": [],
   "source": [
    "import pandas as pd\n",
    "import numpy as np\n",
    "import pysam\n",
    "from concurrent.futures import ProcessPoolExecutor\n",
    "\n",
    "# read sample information from the metadata file\n",
    "cteph_jhrp4 = pd.read_csv(\"/LARGE0/gr10478/b37974/Pulmonary_Hypertension/cteph_agp3k/info/cteph_jhrp4_info.csv\", sep=\",\")\n",
    "cteph_30x = set(cteph_jhrp4[cteph_jhrp4[\"target_depth\"] == \"30x\"][\"sample_code\"].values)\n",
    "cteph_15x = set(cteph_jhrp4[cteph_jhrp4[\"target_depth\"] == \"15x\"][\"sample_code\"].values)"
   ]
  },
  {
   "cell_type": "code",
   "execution_count": 8,
   "metadata": {},
   "outputs": [],
   "source": [
    "def process_vcf(vcf_path, dp_thresholds, sample_codes):\n",
    "    \"\"\"\n",
    "    Processes a VCF file to count the number of records that meet specified \n",
    "    depth of coverage (DP) thresholds for given sample codes.\n",
    "\n",
    "    Args:\n",
    "        vcf_path (str): Path to the input VCF file.\n",
    "        dp_thresholds (list of int): A list of DP threshold values to evaluate.\n",
    "        sample_codes (list of str): A list of sample codes to consider when \n",
    "            evaluating DP values.\n",
    "\n",
    "    Returns:\n",
    "        dict: A dictionary where keys are DP thresholds and values are the \n",
    "        counts of records that meet or exceed the corresponding DP threshold \n",
    "        for at least one of the specified sample codes.\n",
    "    \"\"\"\n",
    "    vcf_in = pysam.VariantFile(vcf_path, 'r')  # open the VCF file for reading (r)\n",
    "    counts = {dp: 0 for dp in dp_thresholds}  # initialize a dictionary to store the counts for each DP threshold\n",
    "\n",
    "    for record in vcf_in.fetch():\n",
    "        for dp in dp_thresholds:\n",
    "            valid_sample = False\n",
    "            for sample in record.samples.keys():\n",
    "                if sample in sample_codes:\n",
    "                    dp_value = record.samples[sample].get('DP', None)\n",
    "                    if dp_value is not None and dp_value >= dp:\n",
    "                        valid_sample = True\n",
    "                        break\n",
    "            if valid_sample:\n",
    "                counts[dp] += 1\n",
    "\n",
    "    vcf_in.close()\n",
    "    return counts"
   ]
  },
  {
   "cell_type": "code",
   "execution_count": 9,
   "metadata": {},
   "outputs": [],
   "source": [
    "def run_parallel_processing(vcf_path, dp_thresholds, sample_sets):\n",
    "    \"\"\"\n",
    "    Executes parallel processing of VCF files for multiple sample sets using a process pool.\n",
    "\n",
    "    Args:\n",
    "        vcf_path (str): The file path to the VCF file to be processed.\n",
    "        dp_thresholds (list): A list of depth thresholds to be applied during processing.\n",
    "        sample_sets (list): A list of sample sets, where each sample set is processed independently.\n",
    "\n",
    "    Returns:\n",
    "        list: A list of results from processing each sample set. Each result corresponds to the output\n",
    "        of the `process_vcf` function for a given sample set.\n",
    "    \"\"\"\n",
    "    with ProcessPoolExecutor(max_workers=2) as executor:\n",
    "        futures = [executor.submit(process_vcf, vcf_path, dp_thresholds, sample_set) for sample_set in sample_sets]\n",
    "        results = [future.result() for future in futures]\n",
    "    return results"
   ]
  },
  {
   "cell_type": "code",
   "execution_count": 10,
   "metadata": {},
   "outputs": [
    {
     "name": "stdout",
     "output_type": "stream",
     "text": [
      "Results for 30x samples: {1: 31, 2: 31, 3: 31, 4: 31, 5: 31, 6: 31, 7: 31, 8: 31, 9: 31, 10: 31, 11: 31, 12: 31, 13: 31, 14: 31, 15: 31, 16: 31, 17: 31, 18: 31, 19: 31, 20: 31, 21: 31, 22: 31, 23: 31, 24: 31, 25: 31, 26: 31, 27: 31, 28: 31, 29: 31, 30: 31}\n",
      "Results for 15x samples: {1: 31, 2: 31, 3: 31, 4: 31, 5: 31, 6: 31, 7: 31, 8: 31, 9: 31, 10: 31, 11: 31, 12: 31, 13: 31, 14: 29, 15: 29, 16: 29, 17: 28, 18: 28, 19: 26, 20: 25, 21: 20, 22: 18, 23: 12, 24: 11, 25: 8, 26: 6, 27: 4, 28: 2, 29: 2, 30: 2}\n"
     ]
    }
   ],
   "source": [
    "# Define the DP thresholds to evaluate and the path to the VCF file\n",
    "dp_thresholds = list(range(1, 31))\n",
    "# Run parallel processing\n",
    "results = run_parallel_processing(vcf_path, dp_thresholds, [cteph_30x, cteph_15x])\n",
    "\n",
    "# Display the results\n",
    "print(\"Results for 30x samples:\", results[0])\n",
    "print(\"Results for 15x samples:\", results[1])\n",
    "\n",
    "# Save the results to a CSV file\n",
    "results_df = pd.DataFrame(results, index=[\"30x\", \"15x\"])\n"
   ]
  }
 ],
 "metadata": {
  "kernelspec": {
   "display_name": "cteph_geno_pro",
   "language": "python",
   "name": "python3"
  },
  "language_info": {
   "codemirror_mode": {
    "name": "ipython",
    "version": 3
   },
   "file_extension": ".py",
   "mimetype": "text/x-python",
   "name": "python",
   "nbconvert_exporter": "python",
   "pygments_lexer": "ipython3",
   "version": "3.12.3"
  }
 },
 "nbformat": 4,
 "nbformat_minor": 2
}
