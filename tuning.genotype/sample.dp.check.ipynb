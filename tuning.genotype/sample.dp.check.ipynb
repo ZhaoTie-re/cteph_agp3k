{
 "cells": [
  {
   "cell_type": "code",
   "execution_count": 8,
   "metadata": {},
   "outputs": [],
   "source": [
    "import pandas as pd\n",
    "import numpy as np\n",
    "import matplotlib.pyplot as plt\n",
    "\n",
    "wgs_samples = pd.read_csv('/LARGE0/gr10478/b37974/Pulmonary_Hypertension/cteph_agp3k/info/nagasaki.sample.lst', sep='\\t', header=None)[0]\n",
    "cteph_samples = wgs_samples[wgs_samples.str.startswith('PHOM')]\n",
    "\n",
    "jhrp4_info = pd.read_csv('/LARGE0/gr10478/b37974/Pulmonary_Hypertension/cteph_agp3k/info/CGM_GRCh38_panel_JHRPv4.csv', sep=',', encoding='latin1')\n",
    "cteph_jhrp4_info = jhrp4_info[jhrp4_info['sample_code'].isin(cteph_samples)]\n",
    "\n",
    "cteph_jhrp4_info.to_csv('/LARGE0/gr10478/b37974/Pulmonary_Hypertension/cteph_agp3k/info/cteph_jhrp4_info.csv', index=False)"
   ]
  }
 ],
 "metadata": {
  "kernelspec": {
   "display_name": "cteph_geno_pro",
   "language": "python",
   "name": "python3"
  },
  "language_info": {
   "codemirror_mode": {
    "name": "ipython",
    "version": 3
   },
   "file_extension": ".py",
   "mimetype": "text/x-python",
   "name": "python",
   "nbconvert_exporter": "python",
   "pygments_lexer": "ipython3",
   "version": "3.12.3"
  }
 },
 "nbformat": 4,
 "nbformat_minor": 2
}
