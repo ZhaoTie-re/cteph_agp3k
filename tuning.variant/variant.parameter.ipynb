{
 "cells": [
  {
   "cell_type": "code",
   "execution_count": 3,
   "metadata": {},
   "outputs": [],
   "source": [
    "import pandas as pd\n",
    "import numpy as np\n",
    "import pysam\n",
    "import os\n",
    "from PyPDF2 import PdfMerger\n",
    "\n",
    "tmpDir = '/LARGE0/gr10478/b37974/Pulmonary_Hypertension/cteph_agp3k/tuning.variant/tmp'\n",
    "\n",
    "# Identify all PDF files in the directory\n",
    "pdf_files = [os.path.join(tmpDir, f) for f in os.listdir(tmpDir) if f.endswith('.pdf')]\n",
    "\n",
    "# Sort the files based on chromosome number (e.g., chr1, chr2, ..., chr22)\n",
    "pdf_files.sort(key=lambda x: int(os.path.basename(x).split('.')[0][3:]))\n",
    "\n",
    "# Merge all PDF files into one\n",
    "merger = PdfMerger()\n",
    "for pdf in pdf_files:\n",
    "    merger.append(pdf)\n",
    "\n",
    "# Save the merged PDF\n",
    "output_pdf = 'merged_output.pdf'\n",
    "merger.write(output_pdf)\n",
    "merger.close()\n"
   ]
  }
 ],
 "metadata": {
  "kernelspec": {
   "display_name": "cteph_geno_pro",
   "language": "python",
   "name": "python3"
  },
  "language_info": {
   "codemirror_mode": {
    "name": "ipython",
    "version": 3
   },
   "file_extension": ".py",
   "mimetype": "text/x-python",
   "name": "python",
   "nbconvert_exporter": "python",
   "pygments_lexer": "ipython3",
   "version": "3.12.3"
  }
 },
 "nbformat": 4,
 "nbformat_minor": 2
}
