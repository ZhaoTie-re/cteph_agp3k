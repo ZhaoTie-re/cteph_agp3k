{
 "cells": [
  {
   "cell_type": "code",
   "execution_count": 1,
   "id": "6bf9a7cc",
   "metadata": {},
   "outputs": [],
   "source": [
    "import pandas as pd\n",
    "import numpy as np\n",
    "import subprocess\n",
    "\n",
    "bed_prefix = \"/LARGE0/gr10478/b37974/Pulmonary_Hypertension/cteph_agp3k/wgs/18.clean_gt/cteph_agp3k.clean\"\n",
    "sep_prefix = \"maf_check\"\n",
    "\n",
    "aaf_output = f\"{sep_prefix}.aaf\"\n",
    "# subprocess.run([\n",
    "#     \"/home/b/b37974/plink2\",\n",
    "#     \"--bfile\", bed_prefix,\n",
    "#     \"--freq\",\n",
    "#     \"--out\", aaf_output, \n",
    "#     \"--threads\", \"8\"\n",
    "# ])"
   ]
  },
  {
   "cell_type": "code",
   "execution_count": 2,
   "id": "fb3d382f",
   "metadata": {},
   "outputs": [
    {
     "name": "stderr",
     "output_type": "stream",
     "text": [
      "/tmp/ipykernel_1494654/884979755.py:7: FutureWarning: The 'delim_whitespace' keyword in pd.read_csv is deprecated and will be removed in a future version. Use ``sep='\\s+'`` instead\n",
      "  for chunk in pd.read_csv(f\"{aaf_output}.afreq\", delim_whitespace=True,\n"
     ]
    }
   ],
   "source": [
    "columns_afreq = ['ID', 'ALT_FREQS']\n",
    "columns_hardy = ['ID', 'P']\n",
    "chunksize = 100000  # 可适当加大以减少IO\n",
    "\n",
    "# 读取 afreq 文件并计算 MAF\n",
    "afreq_chunks = []\n",
    "for chunk in pd.read_csv(f\"{aaf_output}.afreq\", delim_whitespace=True,\n",
    "                         usecols=columns_afreq, chunksize=chunksize,\n",
    "                         dtype={'ID': str, 'ALT_FREQS': float}):\n",
    "    chunk['MAF'] = chunk['ALT_FREQS'].clip(upper=1).apply(lambda x: min(x, 1 - x))\n",
    "    afreq_chunks.append(chunk[['ID', 'MAF']])\n",
    "afreq_df = pd.concat(afreq_chunks, ignore_index=True)\n"
   ]
  },
  {
   "cell_type": "code",
   "execution_count": 3,
   "id": "23d95b96",
   "metadata": {},
   "outputs": [],
   "source": [
    "mono_variants = afreq_df[afreq_df['MAF'] == 0].copy()\n",
    "mono_variants[\"ID\"].to_csv(\"case_control.mono_variants\", index=False, header=False)"
   ]
  },
  {
   "cell_type": "code",
   "execution_count": 4,
   "id": "cf682f83",
   "metadata": {},
   "outputs": [],
   "source": [
    "rm_mono_prefix = \"cteph_agp3k.clean.rm_mono\"\n",
    "\n",
    "# subprocess.run([\n",
    "#     \"/home/b/b37974/plink2\",\n",
    "#     \"--bfile\", bed_prefix,\n",
    "#     \"--exclude\", \"case_control.mono_variants\",\n",
    "#     \"--make-bed\",\n",
    "#     \"--out\", rm_mono_prefix, \n",
    "#     \"--threads\", \"8\"\n",
    "# ])"
   ]
  },
  {
   "cell_type": "code",
   "execution_count": 5,
   "id": "04b64eea",
   "metadata": {},
   "outputs": [],
   "source": [
    "case_aaf_output = \"case.aaf\"\n",
    "control_aaf_output = \"control.aaf\"\n",
    "\n",
    "# subprocess.run([\n",
    "#     \"/home/b/b37974/plink2\",\n",
    "#     \"--bfile\", rm_mono_prefix,\n",
    "#     \"--freq\",\n",
    "#     \"--keep-if\", \"PHENO1==2\", \n",
    "#     \"--out\", case_aaf_output,\n",
    "#     \"--threads\", \"8\"\n",
    "# ])\n",
    "\n",
    "# subprocess.run([\n",
    "#     \"/home/b/b37974/plink2\",\n",
    "#     \"--bfile\", rm_mono_prefix,\n",
    "#     \"--freq\",\n",
    "#     \"--keep-if\", \"PHENO1==1\", \n",
    "#     \"--out\", control_aaf_output,\n",
    "#     \"--threads\", \"8\"\n",
    "# ])"
   ]
  },
  {
   "cell_type": "code",
   "execution_count": 6,
   "id": "a6ee6aa3",
   "metadata": {},
   "outputs": [
    {
     "name": "stderr",
     "output_type": "stream",
     "text": [
      "/tmp/ipykernel_1494654/3853250943.py:7: FutureWarning: The 'delim_whitespace' keyword in pd.read_csv is deprecated and will be removed in a future version. Use ``sep='\\s+'`` instead\n",
      "  for chunk in pd.read_csv(f\"{control_aaf_output}.afreq\", delim_whitespace=True,\n"
     ]
    }
   ],
   "source": [
    "columns_afreq = ['ID', 'ALT_FREQS']\n",
    "columns_hardy = ['ID', 'P']\n",
    "chunksize = 100000  # 可适当加大以减少IO\n",
    "\n",
    "# 读取 afreq 文件并计算 MAF\n",
    "afreq_chunks = []\n",
    "for chunk in pd.read_csv(f\"{control_aaf_output}.afreq\", delim_whitespace=True,\n",
    "                         usecols=columns_afreq, chunksize=chunksize,\n",
    "                         dtype={'ID': str, 'ALT_FREQS': float}):\n",
    "    chunk['MAF'] = chunk['ALT_FREQS'].clip(upper=1).apply(lambda x: min(x, 1 - x))\n",
    "    afreq_chunks.append(chunk[['ID', 'MAF']])\n",
    "control_afreq_df = pd.concat(afreq_chunks, ignore_index=True)"
   ]
  },
  {
   "cell_type": "code",
   "execution_count": 7,
   "id": "feac22f5",
   "metadata": {},
   "outputs": [],
   "source": [
    "not_rare_variants = control_afreq_df[(control_afreq_df['MAF'] > 0.01) | (control_afreq_df['MAF'] == 0.01)].copy()\n",
    "not_rare_variants[\"ID\"].to_csv(\"control.not_rare_variants\", index=False, header=False)"
   ]
  },
  {
   "cell_type": "code",
   "execution_count": 8,
   "id": "62fd6df5",
   "metadata": {},
   "outputs": [],
   "source": [
    "not_rare_prefix = \"cteph_agp3k.clean.rm_mono.not_rare\"\n",
    "\n",
    "# subprocess.run([\n",
    "#     \"/home/b/b37974/plink2\",\n",
    "#     \"--bfile\", rm_mono_prefix,\n",
    "#     \"--extract\", \"control.not_rare_variants\",\n",
    "#     \"--make-bed\",\n",
    "#     \"--out\", not_rare_prefix, \n",
    "#     \"--threads\", \"8\"\n",
    "# ])"
   ]
  },
  {
   "cell_type": "code",
   "execution_count": 12,
   "id": "90ad30ad",
   "metadata": {},
   "outputs": [
    {
     "name": "stdout",
     "output_type": "stream",
     "text": [
      "PLINK v2.0.0-a.5.17LM 64-bit Intel (20 Oct 2024)   cog-genomics.org/plink/2.0/\n",
      "(C) 2005-2024 Shaun Purcell, Christopher Chang   GNU General Public License v3\n",
      "Logging to count_case.log.\n",
      "Options in effect:\n",
      "  --bfile cteph_agp3k.clean.rm_mono.not_rare\n",
      "  --geno-counts\n",
      "  --keep-if PHENO1==2\n",
      "  --out count_case\n",
      "  --threads 8\n",
      "\n",
      "Start time: Fri May 30 13:15:29 2025\n",
      "515039 MiB RAM detected, ~401776 available; reserving 257519 MiB for main\n",
      "workspace.\n",
      "Using up to 8 compute threads.\n",
      "3027 samples (1940 females, 1087 males; 3027 founders) loaded from\n",
      "cteph_agp3k.clean.rm_mono.not_rare.fam.\n",
      "6022542 variants loaded from cteph_agp3k.clean.rm_mono.not_rare.bim.\n",
      "1 binary phenotype loaded (378 cases, 2649 controls).\n",
      "--keep-if: 2649 samples removed.\n",
      "378 samples (301 females, 77 males; 378 founders) remaining after main filters.\n",
      "378 cases and 0 controls remaining after main filters.\n",
      "Calculating allele frequencies... 10111314151617181920212223252627282930313233343536383940414243444546474850515253545556575859606263646566676869707172737576777879808182838485878889909192939495969799done.\n",
      "--geno-counts: Genotype counts written to count_case.gcount .2122222323242425252626272728282929303031313232333334343535363637373838393940404141424243434444454546464747484849505051515252535354545555565657575858595960606161626263636464656566666767686869697070717172727373747475757676777778787979808081818282838384848585868687878888898990909191929293939494959596969797989899%\n",
      "End time: Fri May 30 13:15:31 2025\n",
      "PLINK v2.0.0-a.5.17LM 64-bit Intel (20 Oct 2024)   cog-genomics.org/plink/2.0/\n",
      "(C) 2005-2024 Shaun Purcell, Christopher Chang   GNU General Public License v3\n",
      "Logging to count_control.log.\n",
      "Options in effect:\n",
      "  --bfile cteph_agp3k.clean.rm_mono.not_rare\n",
      "  --geno-counts\n",
      "  --keep-if PHENO1==1\n",
      "  --out count_control\n",
      "  --threads 8\n",
      "\n",
      "Start time: Fri May 30 13:15:31 2025\n",
      "515039 MiB RAM detected, ~401808 available; reserving 257519 MiB for main\n",
      "workspace.\n",
      "Using up to 8 compute threads.\n",
      "3027 samples (1940 females, 1087 males; 3027 founders) loaded from\n",
      "cteph_agp3k.clean.rm_mono.not_rare.fam.\n",
      "6022542 variants loaded from cteph_agp3k.clean.rm_mono.not_rare.bim.\n",
      "1 binary phenotype loaded (378 cases, 2649 controls).\n",
      "--keep-if: 378 samples removed.\n",
      "2649 samples (1639 females, 1010 males; 2649 founders) remaining after main\n",
      "filters.\n",
      "0 cases and 2649 controls remaining after main filters.\n",
      "Calculating allele frequencies... 10111314151617181920212223252627282930313233343536383940414243444546474850515253545556575859606263646566676869707172737576777879808182838485878889909192939495969799done.\n",
      "--geno-counts: Genotype counts written to count_control.gcount .2222323242425252626272728282929303031313232333334343535363637373838393940404141424243434444454546464747484849505051515252535354545555565657575858595960606161626263636464656566666767686869697070717172727373747475757676777778787979808081818282838384848585868687878888898990909191929293939494959596969797989899%\n",
      "End time: Fri May 30 13:15:33 2025\n"
     ]
    },
    {
     "data": {
      "text/plain": [
       "CompletedProcess(args=['/home/b/b37974/plink2', '--bfile', 'cteph_agp3k.clean.rm_mono.not_rare', '--geno-counts', '--keep-if', 'PHENO1==1', '--out', 'count_control', '--threads', '8'], returncode=0)"
      ]
     },
     "execution_count": 12,
     "metadata": {},
     "output_type": "execute_result"
    }
   ],
   "source": [
    "subprocess.run([\n",
    "    \"/home/b/b37974/plink2\",\n",
    "    \"--bfile\", not_rare_prefix,\n",
    "    \"--geno-counts\",\n",
    "    \"--keep-if\", \"PHENO1==2\", \n",
    "    \"--out\", \"count_case\",\n",
    "    \"--threads\", \"8\"\n",
    "])\n",
    "\n",
    "subprocess.run([\n",
    "    \"/home/b/b37974/plink2\",\n",
    "    \"--bfile\", not_rare_prefix,\n",
    "    \"--geno-counts\", \n",
    "    \"--keep-if\", \"PHENO1==1\", \n",
    "    \"--out\", \"count_control\",\n",
    "    \"--threads\", \"8\"\n",
    "])"
   ]
  }
 ],
 "metadata": {
  "kernelspec": {
   "display_name": "cteph_geno_pro",
   "language": "python",
   "name": "python3"
  },
  "language_info": {
   "codemirror_mode": {
    "name": "ipython",
    "version": 3
   },
   "file_extension": ".py",
   "mimetype": "text/x-python",
   "name": "python",
   "nbconvert_exporter": "python",
   "pygments_lexer": "ipython3",
   "version": "3.12.3"
  }
 },
 "nbformat": 4,
 "nbformat_minor": 5
}
